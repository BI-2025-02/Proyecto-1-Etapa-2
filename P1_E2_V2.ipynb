{
 "cells": [
  {
   "cell_type": "markdown",
   "id": "b07dcbed",
   "metadata": {},
   "source": [
    "# Proyecto 1 - Etapa 2\n",
    "\n"
   ]
  },
  {
   "cell_type": "code",
   "execution_count": null,
   "id": "df734c54",
   "metadata": {},
   "outputs": [],
   "source": [
    "%pip install fastapi uvicorn nest_asyncio"
   ]
  },
  {
   "cell_type": "code",
   "execution_count": 27,
   "id": "ae3cea1b-ca2a-4349-9334-de00adec6e0b",
   "metadata": {},
   "outputs": [],
   "source": [
    "# ==============================================================\n",
    "#  PROYECTO 1 – ETAPA 2 (SECCIÓN 1)\n",
    "#  Baseline (v1) → Aumentación ODS1 → Reentrenamiento (v2) → Comparación\n",
    "# ==============================================================\n",
    "\n",
    "# ========== 1) IMPORTS Y UTILIDADES ==========\n",
    "import os\n",
    "import json\n",
    "import pandas as pd\n",
    "import numpy as np\n",
    "from joblib import dump, load\n",
    "from sklearn.model_selection import train_test_split\n",
    "from sklearn.feature_extraction.text import TfidfVectorizer\n",
    "from sklearn.linear_model import LogisticRegression\n",
    "from sklearn.metrics import (accuracy_score, f1_score, classification_report)\n",
    "import matplotlib.pyplot as plt\n",
    "\n",
    "# tqdm opcional\n",
    "try:\n",
    "    from tqdm import tqdm\n",
    "    tqdm.pandas()\n",
    "    USE_TQDM = True\n",
    "except Exception:\n",
    "    USE_TQDM = False\n",
    "\n",
    "# ========== 2) LIMPIEZA Y LEMATIZACIÓN ==========\n",
    "import spacy\n",
    "try:\n",
    "    nlp = spacy.load(\"es_core_news_sm\")\n",
    "except Exception as e:\n",
    "    raise RuntimeError(\n",
    "        \"Falta el modelo de spaCy para español. Instala con:\\n\"\n",
    "        \"  python -m spacy download es_core_news_sm\"\n",
    "    ) from e\n",
    "\n",
    "def clean_text(text):\n",
    "    text = str(text).lower()\n",
    "    text = text.replace('\\n',' ').replace('\\r',' ')\n",
    "    text = ''.join(ch for ch in text if ch.isalnum() or ch.isspace())\n",
    "    text = ' '.join(text.split())\n",
    "    return text\n",
    "\n",
    "def lemmatize_text(text):\n",
    "    doc = nlp(text)\n",
    "    return ' '.join([tok.lemma_ for tok in doc if not tok.is_stop and not tok.is_punct])\n",
    "\n",
    "def apply_series(func, series):\n",
    "    if USE_TQDM:\n",
    "        return series.progress_apply(func)\n",
    "    return series.apply(func)"
   ]
  },
  {
   "cell_type": "code",
   "execution_count": 28,
   "id": "18f4eef2-a044-4612-9021-71c33efc0f79",
   "metadata": {},
   "outputs": [
    {
     "name": "stderr",
     "output_type": "stream",
     "text": [
      "100%|██████████| 2424/2424 [00:00<00:00, 3324.95it/s]\n",
      "100%|██████████| 2424/2424 [02:02<00:00, 19.77it/s]\n"
     ]
    },
    {
     "name": "stdout",
     "output_type": "stream",
     "text": [
      "=== v1 en HOLD-OUT original (Etapa 1) ===\n",
      "Accuracy: 0.961\n",
      "F1-macro: 0.956\n",
      "\n",
      "=== Reporte de clasificación — v1 (baseline en hold-out original) ===\n",
      "              precision    recall  f1-score   support\n",
      "\n",
      "           1       0.97      0.90      0.93       101\n",
      "           3       0.95      0.97      0.96       179\n",
      "           4       0.97      0.99      0.98       205\n",
      "\n",
      "    accuracy                           0.96       485\n",
      "   macro avg       0.96      0.95      0.96       485\n",
      "weighted avg       0.96      0.96      0.96       485\n",
      "\n"
     ]
    },
    {
     "data": {
      "image/png": "[encoded data removed]",
      "text/plain": [
       "<Figure size 600x500 with 2 Axes>"
      ]
     },
     "metadata": {},
     "output_type": "display_data"
    },
    {
     "name": "stdout",
     "output_type": "stream",
     "text": [
      "Guardados v1: model_LogisticRegression.joblib, tfidf_vectorizer.joblib\n",
      "\n"
     ]
    }
   ],
   "source": [
    "# ========== 3) DATOS ORIGINALES (ETAPA 1) Y v1 ==========\n",
    "# Cambia el nombre si tu archivo es otro\n",
    "import seaborn as sns\n",
    "from sklearn.metrics import confusion_matrix\n",
    "\n",
    "df_orig = pd.read_excel(\"data/Datos_proyecto.xlsx\")\n",
    "assert {\"textos\",\"labels\"} <= set(df_orig.columns), f\"Columnas esperadas no encontradas: {df_orig.columns}\"\n",
    "\n",
    "# Preparación idéntica a la Etapa 1\n",
    "df_orig[\"texto_limpio\"] = apply_series(clean_text, df_orig[\"textos\"].astype(str))\n",
    "df_orig[\"texto_lema\"]   = apply_series(lemmatize_text, df_orig[\"texto_limpio\"])\n",
    "\n",
    "# Split reproducible (HOLD-OUT FIJO para comparación v1 vs v2)\n",
    "X_train, X_test, y_train, y_test = train_test_split(\n",
    "    df_orig[\"texto_lema\"], df_orig[\"labels\"],\n",
    "    test_size=0.2, random_state=42, stratify=df_orig[\"labels\"]\n",
    ")\n",
    "\n",
    "# Vectorizador y modelo v1 (misma configuración de la Etapa 1)\n",
    "vectorizer_v1 = TfidfVectorizer(ngram_range=(1,2), min_df=3, max_df=0.9, sublinear_tf=True, norm=\"l2\")\n",
    "X_train_v1 = vectorizer_v1.fit_transform(X_train)\n",
    "X_test_v1  = vectorizer_v1.transform(X_test)\n",
    "\n",
    "logreg_v1 = LogisticRegression(max_iter=2000, solver=\"lbfgs\")\n",
    "logreg_v1.fit(X_train_v1, y_train)\n",
    "\n",
    "# Métricas rápidas en el hold-out original (v1)\n",
    "yhat_v1_hold = logreg_v1.predict(X_test_v1)\n",
    "print(\"=== v1 en HOLD-OUT original (Etapa 1) ===\")\n",
    "print(\"Accuracy:\", round(accuracy_score(y_test, yhat_v1_hold), 3))\n",
    "print(\"F1-macro:\", round(f1_score(y_test, yhat_v1_hold, average='macro'), 3))\n",
    "\n",
    "# Reporte detallado de clasificación (por clase)\n",
    "print(\"\\n=== Reporte de clasificación — v1 (baseline en hold-out original) ===\")\n",
    "print(classification_report(y_test, yhat_v1_hold, zero_division=0))\n",
    "\n",
    "# Matriz de confusión\n",
    "cm = confusion_matrix(y_test, yhat_v1_hold, labels=logreg_v1.classes_)\n",
    "\n",
    "plt.figure(figsize=(6,5))\n",
    "sns.heatmap(cm,\n",
    "            annot=True,          # muestra los números\n",
    "            fmt=\"d\",             # formato enteros\n",
    "            cmap=\"Blues\",        # paleta de colores\n",
    "            xticklabels=logreg_v1.classes_,  # nombres de clases eje X\n",
    "            yticklabels=logreg_v1.classes_)  # nombres de clases eje Y\n",
    "plt.xlabel(\"Predicciones\")\n",
    "plt.ylabel(\"Reales\")\n",
    "plt.title(\"Matriz de confusión - Logistic Regression (v1)\")\n",
    "plt.show()\n",
    "\n",
    "# Guardar artefactos v1\n",
    "dump(logreg_v1, \"artifacts/model_LogisticRegression.joblib\")\n",
    "dump(vectorizer_v1, \"artifacts/tfidf_vectorizer.joblib\")\n",
    "print(\"Guardados v1: model_LogisticRegression.joblib, tfidf_vectorizer.joblib\\n\")\n"
   ]
  },
  {
   "cell_type": "code",
   "execution_count": null,
   "id": "b9bbe8d6-4c1f-4fd2-8980-ded91eeac4b1",
   "metadata": {},
   "outputs": [
    {
     "name": "stdout",
     "output_type": "stream",
     "text": [
      "Nuevo dataset: filas=99 | columna texto='textos'\n"
     ]
    },
    {
     "name": "stderr",
     "output_type": "stream",
     "text": [
      "100%|██████████| 99/99 [00:00<00:00, 2097.40it/s]\n",
      "100%|██████████| 99/99 [00:07<00:00, 13.73it/s]\n"
     ]
    },
    {
     "name": "stdout",
     "output_type": "stream",
     "text": [
      "\n",
      "=== Reporte de clasificación — v1 (baseline en nuevo set) ===\n",
      "              precision    recall  f1-score   support\n",
      "\n",
      "           1       1.00      0.57      0.73        21\n",
      "           3       0.85      1.00      0.92        35\n",
      "           4       0.89      0.95      0.92        43\n",
      "\n",
      "    accuracy                           0.89        99\n",
      "   macro avg       0.91      0.84      0.86        99\n",
      "weighted avg       0.90      0.89      0.88        99\n",
      "\n"
     ]
    },
    {
     "data": {
      "image/png": "[encoded data removed]",
      "text/plain": [
       "<Figure size 600x500 with 2 Axes>"
      ]
     },
     "metadata": {},
     "output_type": "display_data"
    },
    {
     "name": "stdout",
     "output_type": "stream",
     "text": [
      "Baseline (v1) en nuevo set listo:\n",
      "baseline_etapa2_macro.csv\n",
      "baseline_etapa2_por_clase.csv\n",
      "predicciones_v1_en_nuevo_set.csv\n",
      "matriz_confusion_v1_nuevo_set.png\n",
      "\n"
     ]
    }
   ],
   "source": [
    "# ========== 4) NUEVO SET (ETAPA 2) → BASELINE CON v1 ==========\n",
    "import seaborn as sns\n",
    "from sklearn.metrics import confusion_matrix\n",
    "\n",
    "# Cambia el nombre si tu archivo es otro\n",
    "df_new = pd.read_excel(\"data/Datos_Etapa 2.xlsx\")\n",
    "\n",
    "# Detecta columna de texto\n",
    "TEXT_COL = \"Textos_espanol\" if \"Textos_espanol\" in df_new.columns else (\"textos\" if \"textos\" in df_new.columns else None)\n",
    "assert TEXT_COL is not None, f\"No encuentro columna de texto. Columnas: {list(df_new.columns)}\"\n",
    "assert \"labels\" in df_new.columns, f\"Falta columna 'labels' en df_new.\"\n",
    "\n",
    "print(f\"Nuevo dataset: filas={len(df_new)} | columna texto='{TEXT_COL}'\")\n",
    "\n",
    "# Limpieza y lematización (idéntico a Etapa 1)\n",
    "df_new[\"texto_limpio\"] = apply_series(clean_text, df_new[TEXT_COL].astype(str))\n",
    "df_new[\"texto_lema\"]   = apply_series(lemmatize_text, df_new[\"texto_limpio\"])\n",
    "\n",
    "# Baseline v1 en el nuevo set\n",
    "X_new = vectorizer_v1.transform(df_new[\"texto_lema\"])\n",
    "y_new = df_new[\"labels\"]\n",
    "yhat_new = logreg_v1.predict(X_new)\n",
    "\n",
    "# Reporte y métricas\n",
    "rep_new_v1 = classification_report(y_new, yhat_new, output_dict=True, zero_division=0)\n",
    "pd.DataFrame(rep_new_v1).to_csv(\"outputs/baseline_etapa2_por_clase.csv\")\n",
    "\n",
    "pd.DataFrame([{\n",
    "    \"accuracy\": accuracy_score(y_new, yhat_new),\n",
    "    \"f1_macro\": f1_score(y_new, yhat_new, average=\"macro\")\n",
    "}]).to_csv(\"outputs/baseline_etapa2_macro.csv\", index=False)\n",
    "\n",
    "df_new.assign(pred_v1=yhat_new).to_csv(\"outputs/predicciones_v1_en_nuevo_set.csv\", index=False)\n",
    "\n",
    "# === Reporte detallado ===\n",
    "print(\"\\n=== Reporte de clasificación — v1 (baseline en nuevo set) ===\")\n",
    "print(classification_report(y_new, yhat_new, zero_division=0))\n",
    "\n",
    "# === Matriz de confusión ===\n",
    "cm_new = confusion_matrix(y_new, yhat_new, labels=logreg_v1.classes_)\n",
    "\n",
    "plt.figure(figsize=(6,5))\n",
    "sns.heatmap(cm_new,\n",
    "            annot=True,          # muestra los números\n",
    "            fmt=\"d\",             # formato enteros\n",
    "            cmap=\"Greens\",       # paleta de colores\n",
    "            xticklabels=logreg_v1.classes_,\n",
    "            yticklabels=logreg_v1.classes_)\n",
    "plt.xlabel(\"Predicciones\")\n",
    "plt.ylabel(\"Reales\")\n",
    "plt.title(\"Matriz de confusión — v1 (baseline en nuevo set)\")\n",
    "plt.tight_layout()\n",
    "plt.savefig(\"figures/matriz_confusion_v1_nuevo_set.png\", dpi=150)\n",
    "plt.show()\n",
    "\n",
    "print(\"Baseline (v1) en nuevo set listo:\")\n",
    "print(\"baseline_etapa2_macro.csv\")\n",
    "print(\"baseline_etapa2_por_clase.csv\")\n",
    "print(\"predicciones_v1_en_nuevo_set.csv\")\n",
    "print(\"matriz_confusion_v1_nuevo_set.png\\n\")\n"
   ]
  },
  {
   "cell_type": "code",
   "execution_count": 30,
   "id": "26fd6434-70df-4e4a-93f7-2f256975ed65",
   "metadata": {},
   "outputs": [
    {
     "name": "stderr",
     "output_type": "stream",
     "text": [
      "100%|██████████| 5/5 [00:00<00:00, 2928.57it/s]\n",
      "100%|██████████| 5/5 [00:00<00:00, 21.54it/s]"
     ]
    },
    {
     "name": "stdout",
     "output_type": "stream",
     "text": [
      "✔ Sintéticos válidos: 5 (quitados por duplicados vs datasets: 0) → synthetic_ODS1_clean.csv\n",
      "\n"
     ]
    },
    {
     "name": "stderr",
     "output_type": "stream",
     "text": [
      "\n"
     ]
    }
   ],
   "source": [
    "# ========== 5) AUMENTACIÓN POR PROMPTING (ODS 1) ==========\n",
    "# Inferir formato de etiqueta (strings 'ODS1' vs numéricos 1)\n",
    "def infer_label_format(series):\n",
    "    s = series.dropna().astype(str)\n",
    "    if (s.str.contains(\"ODS\", case=False)).mean() > 0.5:\n",
    "        return \"string\"\n",
    "    # numérico?\n",
    "    s_num = pd.to_numeric(s, errors=\"coerce\")\n",
    "    if s_num.notna().mean() > 0.5:\n",
    "        return \"numeric\"\n",
    "    return \"string\"\n",
    "\n",
    "label_format = infer_label_format(pd.concat([df_orig[\"labels\"], df_new[\"labels\"]], ignore_index=True))\n",
    "ODS1_LABEL = \"ODS1\" if label_format == \"string\" else 1\n",
    "\n",
    "# >>> Textos sintéticos (5 ejemplos; agrega más si quieres 300–600) <<<\n",
    "lista_textos_sinteticos = [\n",
    "    \"En mi barrio muchas familias viven del rebusque y cuando no hay ventas, no hay comida en la mesa. A veces toca decidir entre pagar el transporte o comprar lo del almuerzo. No hay empleos estables y los subsidios no alcanzan para cubrir lo básico. La gente se las ingenia, pero la vida sigue siendo muy dura para quienes vivimos del día a día.\",\n",
    "    \"Trabajo como madre cabeza de hogar en una tienda pequeña y el dinero apenas alcanza para el arriendo y los servicios. Mis hijos muchas veces se quedan sin desayuno antes de ir al colegio. Cada mes todo sube, pero los ingresos siguen iguales. La sensación de vivir con lo justo, sin poder ahorrar, es agotadora.\",\n",
    "    \"En las veredas del Cauca muchos campesinos no tienen acceso a vías ni a mercados donde vender sus productos. El transporte es caro y los intermediarios se quedan con casi todo. A veces uno siente que trabaja mucho y gana muy poco. La pobreza aquí no solo es falta de dinero, sino de oportunidades reales para salir adelante.\",\n",
    "    \"Soy joven y terminé el bachillerato, pero conseguir trabajo formal ha sido imposible. En mi zona solo hay opciones informales con pagos muy bajos. He pensado en estudiar, pero el costo del transporte y los materiales me lo impiden. Quiero progresar, pero siento que la pobreza no me deja avanzar.\",\n",
    "    \"En la costa, muchas familias viven sin agua constante ni empleo seguro. Los niños se enferman porque el agua no es limpia y toca comprar botellones que son costosos. La mayoría sobrevive vendiendo dulces o haciendo oficios por días. Todos soñamos con un trabajo fijo que nos permita vivir con dignidad.\"\n",
    "]\n",
    "\n",
    "# Limpieza + lemas + control de calidad (umbral tokens 8–200 tras lematizar)\n",
    "df_sint = pd.DataFrame({\"texto\": lista_textos_sinteticos}).dropna()\n",
    "df_sint[\"texto\"] = df_sint[\"texto\"].astype(str).str.strip()\n",
    "df_sint[\"texto_limpio\"] = apply_series(clean_text, df_sint[\"texto\"])\n",
    "df_sint[\"texto_lema\"]   = apply_series(lemmatize_text, df_sint[\"texto_limpio\"])\n",
    "df_sint[\"n_tokens\"]     = df_sint[\"texto_lema\"].str.split().str.len()\n",
    "\n",
    "MIN_TOKENS, MAX_TOKENS = 8, 200\n",
    "df_sint = df_sint[df_sint[\"n_tokens\"].between(MIN_TOKENS, MAX_TOKENS)]\n",
    "\n",
    "# Quitar duplicados internos\n",
    "df_sint = df_sint.drop_duplicates(subset=\"texto_lema\").copy()\n",
    "\n",
    "# Quitar duplicados exactos contra el nuevo set (y original si lo deseas)\n",
    "existing = pd.concat([\n",
    "    df_new[[\"texto_lema\"]],\n",
    "    df_orig[[\"texto_lema\"]]\n",
    "], ignore_index=True).drop_duplicates()\n",
    "\n",
    "df_sint = df_sint.merge(existing.assign(_e=1), on=\"texto_lema\", how=\"left\")\n",
    "cross_dups = int(df_sint[\"_e\"].fillna(0).sum())\n",
    "df_sint = df_sint[df_sint[\"_e\"].isna()].drop(columns=[\"_e\"])\n",
    "\n",
    "df_sint = df_sint.assign(labels=ODS1_LABEL)[[\"texto_lema\",\"labels\"]].reset_index(drop=True)\n",
    "df_sint.to_csv(\"data/synthetic_ODS1_clean.csv\", index=False)\n",
    "print(f\"✔ Sintéticos válidos: {len(df_sint)} (quitados por duplicados vs datasets: {cross_dups}) → synthetic_ODS1_clean.csv\\n\")\n"
   ]
  },
  {
   "cell_type": "code",
   "execution_count": 31,
   "id": "381779f0-ca4c-4fd8-85e4-ede86d49d3db",
   "metadata": {},
   "outputs": [
    {
     "name": "stdout",
     "output_type": "stream",
     "text": [
      "=== v2 en MISMO HOLD-OUT (Etapa 1) ===\n",
      "Accuracy: 0.961\n",
      "F1-macro: 0.956\n",
      "\n",
      "=== Reporte de clasificación — v2 (reentrenado en hold-out original) ===\n",
      "              precision    recall  f1-score   support\n",
      "\n",
      "           1       0.96      0.91      0.93       101\n",
      "           3       0.96      0.97      0.96       179\n",
      "           4       0.97      0.98      0.97       205\n",
      "\n",
      "    accuracy                           0.96       485\n",
      "   macro avg       0.96      0.95      0.96       485\n",
      "weighted avg       0.96      0.96      0.96       485\n",
      "\n"
     ]
    },
    {
     "data": {
      "image/png": "[encoded data removed]",
      "text/plain": [
       "<Figure size 600x500 with 2 Axes>"
      ]
     },
     "metadata": {},
     "output_type": "display_data"
    },
    {
     "name": "stdout",
     "output_type": "stream",
     "text": [
      "✔ Guardados v2: model_LogisticRegression_v2.joblib, tfidf_vectorizer_v2.joblib\n",
      "✔ Matriz de confusión guardada: matriz_confusion_v2_holdout.png\n",
      "\n"
     ]
    }
   ],
   "source": [
    "# ========== 6) REENTRENAMIENTO (v2) ==========\n",
    "import seaborn as sns\n",
    "from sklearn.metrics import confusion_matrix\n",
    "\n",
    "# Train v2 con: train original + nuevo set + sintéticos (sin tocar el test original)\n",
    "df_train_v2 = pd.DataFrame({\"texto_lema\": X_train.values, \"labels\": y_train.values})\n",
    "df_train_v2 = pd.concat([df_train_v2, df_new[[\"texto_lema\",\"labels\"]], df_sint], ignore_index=True)\n",
    "\n",
    "# Vectorizador y modelo v2 (idéntica configuración que v1)\n",
    "vectorizer_v2 = TfidfVectorizer(ngram_range=(1,2), min_df=3, max_df=0.9, sublinear_tf=True, norm=\"l2\")\n",
    "Xtr2 = vectorizer_v2.fit_transform(df_train_v2[\"texto_lema\"])\n",
    "ytr2 = df_train_v2[\"labels\"].values\n",
    "\n",
    "logreg_v2 = LogisticRegression(max_iter=2000, solver=\"lbfgs\")\n",
    "logreg_v2.fit(Xtr2, ytr2)\n",
    "\n",
    "# Evaluar v2 en el MISMO test original (comparación justa)\n",
    "X_test_v2 = vectorizer_v2.transform(X_test)\n",
    "yhat_v2_hold = logreg_v2.predict(X_test_v2)\n",
    "\n",
    "# === Métricas principales ===\n",
    "print(\"=== v2 en MISMO HOLD-OUT (Etapa 1) ===\")\n",
    "print(\"Accuracy:\", round(accuracy_score(y_test, yhat_v2_hold), 3))\n",
    "print(\"F1-macro:\", round(f1_score(y_test, yhat_v2_hold, average=\"macro\"), 3))\n",
    "\n",
    "# === Reporte detallado ===\n",
    "print(\"\\n=== Reporte de clasificación — v2 (reentrenado en hold-out original) ===\")\n",
    "print(classification_report(y_test, yhat_v2_hold, zero_division=0))\n",
    "\n",
    "# === Matriz de confusión ===\n",
    "cm_v2 = confusion_matrix(y_test, yhat_v2_hold, labels=logreg_v2.classes_)\n",
    "\n",
    "plt.figure(figsize=(6,5))\n",
    "sns.heatmap(cm_v2,\n",
    "            annot=True,          # muestra los números\n",
    "            fmt=\"d\",             # formato enteros\n",
    "            cmap=\"Oranges\",      # paleta de colores (naranja para diferenciar del v1)\n",
    "            xticklabels=logreg_v2.classes_,\n",
    "            yticklabels=logreg_v2.classes_)\n",
    "plt.xlabel(\"Predicciones\")\n",
    "plt.ylabel(\"Reales\")\n",
    "plt.title(\"Matriz de confusión — v2 (reentrenado, hold-out original)\")\n",
    "plt.tight_layout()\n",
    "plt.show()\n",
    "\n",
    "# Guardar artefactos v2\n",
    "dump(logreg_v2, \"artifacts/model_LogisticRegression_v2.joblib\")\n",
    "dump(vectorizer_v2, \"artifacts/tfidf_vectorizer_v2.joblib\")\n",
    "print(\"✔ Guardados v2: model_LogisticRegression_v2.joblib, tfidf_vectorizer_v2.joblib\")\n",
    "print(\"✔ Matriz de confusión guardada: matriz_confusion_v2_holdout.png\\n\")\n",
    "\n"
   ]
  },
  {
   "cell_type": "code",
   "execution_count": 32,
   "id": "12ce5f41-8b6a-4c98-b45d-d763b36bf60a",
   "metadata": {},
   "outputs": [
    {
     "name": "stdout",
     "output_type": "stream",
     "text": [
      "✔ Comparación guardada: tabla_comparativa_v1_vs_v2_mismo_test.csv\n",
      "                 Modelo  Accuracy  F1_macro      F1_1      F1_3      F1_4\n",
      "0  v1 (sin aumentación)  0.960825  0.955876  0.933333  0.958449  0.975845\n",
      "1  v2 (con aumentación)  0.960825  0.956162  0.934010  0.961111  0.973366 \n",
      "\n",
      "✔ Gráfico guardado: f1_por_clase_mismo_test.png\n"
     ]
    },
    {
     "data": {
      "image/png": "[encoded data removed]",
      "text/plain": [
       "<Figure size 700x400 with 1 Axes>"
      ]
     },
     "metadata": {},
     "output_type": "display_data"
    }
   ],
   "source": [
    "# ========== 7) COMPARACIÓN v1 vs v2 EN MISMO TEST ==========\n",
    "def fila_resumen(y_true, y_pred, nombre):\n",
    "    rep = classification_report(y_true, y_pred, output_dict=True, zero_division=0)\n",
    "    out = {\n",
    "        \"Modelo\": nombre,\n",
    "        \"Accuracy\": accuracy_score(y_true, y_pred),\n",
    "        \"F1_macro\": f1_score(y_true, y_pred, average=\"macro\")\n",
    "    }\n",
    "    # F1 por clase (usa las etiquetas presentes en y_true)\n",
    "    for cls in sorted(pd.Series(y_true).unique(), key=lambda x: str(x)):\n",
    "        key = str(cls)\n",
    "        if key in rep:\n",
    "            out[f\"F1_{key}\"] = rep[key][\"f1-score\"]\n",
    "    return out, rep\n",
    "\n",
    "fila_v1, rep_v1 = fila_resumen(y_test, yhat_v1_hold, \"v1 (sin aumentación)\")\n",
    "fila_v2, rep_v2 = fila_resumen(y_test, yhat_v2_hold, \"v2 (con aumentación)\")\n",
    "\n",
    "tabla_comp = pd.DataFrame([fila_v1, fila_v2])\n",
    "tabla_comp.to_csv(\"figures/tabla_comparativa_v1_vs_v2_mismo_test.csv\", index=False)\n",
    "print(\"✔ Comparación guardada: tabla_comparativa_v1_vs_v2_mismo_test.csv\")\n",
    "print(tabla_comp, \"\\n\")\n",
    "\n",
    "# (Opcional) F1 por clase (gráfico)\n",
    "try:\n",
    "    labels_test = sorted(pd.Series(y_test).unique(), key=lambda x: str(x))\n",
    "    f1_v1_cls = [rep_v1.get(str(c), {}).get(\"f1-score\", np.nan) for c in labels_test]\n",
    "    f1_v2_cls = [rep_v2.get(str(c), {}).get(\"f1-score\", np.nan) for c in labels_test]\n",
    "\n",
    "    x = np.arange(len(labels_test))\n",
    "    plt.figure(figsize=(7,4))\n",
    "    plt.bar(x-0.15, f1_v1_cls, width=0.3, label=\"v1 (sin aumentación)\")\n",
    "    plt.bar(x+0.15, f1_v2_cls, width=0.3, label=\"v2 (con aumentación)\")\n",
    "    xticks_labels = [str(c) if isinstance(c, str) else (f\"ODS{c}\" if isinstance(c,int) else str(c)) for c in labels_test]\n",
    "    plt.xticks(x, xticks_labels)\n",
    "    plt.ylabel(\"F1 por clase (mismo test)\")\n",
    "    plt.title(\"F1 por clase — v1 vs v2 (hold-out Etapa 1)\")\n",
    "    plt.legend()\n",
    "    plt.grid(alpha=0.3)\n",
    "    plt.tight_layout()\n",
    "    plt.savefig(\"figures/f1_por_clase_mismo_test.png\", dpi=150)\n",
    "    # plt.show()\n",
    "    print(\"✔ Gráfico guardado: f1_por_clase_mismo_test.png\")\n",
    "except Exception as e:\n",
    "    print(\"No se pudo crear el gráfico F1 por clase:\", e)\n"
   ]
  },
  {
   "cell_type": "code",
   "execution_count": 33,
   "id": "a4bc7c0c-ed08-498c-9d36-b324c53a68a1",
   "metadata": {},
   "outputs": [
    {
     "name": "stdout",
     "output_type": "stream",
     "text": [
      "✔ Métricas v2 en nuevo set guardadas: nuevo_set_v2_por_clase.csv\n"
     ]
    }
   ],
   "source": [
    "# ========== 8) (Opcional) v2 en NUEVO SET (misma comparación justa si reportas ambos) ==========\n",
    "X_new_v2 = vectorizer_v2.transform(df_new[\"texto_lema\"])\n",
    "yhat_new_v2 = logreg_v2.predict(X_new_v2)\n",
    "rep_new_v2  = classification_report(y_new, yhat_new_v2, output_dict=True, zero_division=0)\n",
    "pd.DataFrame(rep_new_v2).to_csv(\"outputs/nuevo_set_v2_por_clase.csv\")\n",
    "print(\"✔ Métricas v2 en nuevo set guardadas: nuevo_set_v2_por_clase.csv\")"
   ]
  },
  {
   "cell_type": "markdown",
   "id": "f414b94e",
   "metadata": {},
   "source": [
    "### Construcción del pipeline"
   ]
  },
  {
   "cell_type": "code",
   "execution_count": 34,
   "id": "bda39f89-35e9-4af3-a4bb-a9ce7a098042",
   "metadata": {},
   "outputs": [
    {
     "name": "stdout",
     "output_type": "stream",
     "text": [
      "Scores por fold: [0.9787282  0.98864552 0.96458469 0.97655401 0.97689384]\n",
      "F1_macro promedio: 0.9770812506422896 ± 0.007654042952760502\n"
     ]
    }
   ],
   "source": [
    "from sklearn.model_selection import StratifiedKFold, cross_val_score\n",
    "from sklearn.pipeline import Pipeline\n",
    "from sklearn.feature_extraction.text import TfidfVectorizer\n",
    "from sklearn.linear_model import LogisticRegression\n",
    "\n",
    "X = df_train_v2[\"texto_lema\"]\n",
    "y = df_train_v2[\"labels\"]\n",
    "\n",
    "def build_pipeline():\n",
    "    pipe = Pipeline([\n",
    "        (\"tfidf\", TfidfVectorizer(\n",
    "            ngram_range=(1,2),\n",
    "            min_df=3,\n",
    "            max_df=0.9,\n",
    "            sublinear_tf=True,\n",
    "            norm=\"l2\"\n",
    "        )),\n",
    "        (\"clf\", LogisticRegression(\n",
    "            max_iter=2000,\n",
    "            solver=\"lbfgs\",\n",
    "            random_state=42,\n",
    "            class_weight=\"balanced\"\n",
    "        ))\n",
    "    ])\n",
    "    \n",
    "    return pipe\n",
    "\n",
    "cv = StratifiedKFold(n_splits=5, shuffle=True, random_state=42)\n",
    "\n",
    "scores = cross_val_score(build_pipeline(), X, y, cv=cv, scoring=\"f1_macro\", n_jobs=-1)\n",
    "print(\"Scores por fold:\", scores)\n",
    "print(\"F1_macro promedio:\", scores.mean(), \"±\", scores.std())"
   ]
  },
  {
   "cell_type": "markdown",
   "id": "1868ab38",
   "metadata": {},
   "source": [
    "### Guardar el modelo"
   ]
  },
  {
   "cell_type": "code",
   "execution_count": null,
   "id": "e1bae2be",
   "metadata": {},
   "outputs": [],
   "source": [
    "import joblib\n",
    "from pathlib import Path\n",
    "from datetime import datetime\n",
    "\n",
    "MODEL_DIR = Path(\"models\")\n",
    "MODEL_DIR.mkdir(exist_ok=True)\n",
    "\n",
    "CURRENT_MODEL_PATH = MODEL_DIR / \"model_current.joblib\"\n",
    "\n",
    "def save_model(pipe, replace_current=True):\n",
    "    ts = datetime.now().strftime(\"%Y%m%d_%H%M%S\")\n",
    "    versioned = MODEL_DIR / f\"model_{ts}.joblib\"\n",
    "    joblib.dump(pipe, versioned)\n",
    "    if replace_current:\n",
    "        joblib.dump(pipe, CURRENT_MODEL_PATH)\n",
    "    return str(versioned)\n",
    "\n",
    "def load_current_model():\n",
    "    return joblib.load(CURRENT_MODEL_PATH)\n"
   ]
  }
 ],
 "metadata": {
  "kernelspec": {
   "display_name": "base",
   "language": "python",
   "name": "python3"
  },
  "language_info": {
   "codemirror_mode": {
    "name": "ipython",
    "version": 3
   },
   "file_extension": ".py",
   "mimetype": "text/x-python",
   "name": "python",
   "nbconvert_exporter": "python",
   "pygments_lexer": "ipython3",
   "version": "3.13.0"
  }
 },
 "nbformat": 4,
 "nbformat_minor": 5
}
